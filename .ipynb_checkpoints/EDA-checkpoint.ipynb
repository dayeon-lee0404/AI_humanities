{
 "cells": [
  {
   "cell_type": "code",
   "execution_count": 1,
   "id": "41fe0892",
   "metadata": {},
   "outputs": [],
   "source": [
    "f = open('/Users/idayeon/Desktop/인공지능학부연구생/EDA/textData.txt','r',encoding = 'UTF-16')\n",
    "lines = f.read()"
   ]
  },
  {
   "cell_type": "code",
   "execution_count": 3,
   "id": "2a6f31dc",
   "metadata": {},
   "outputs": [
    {
     "ename": "SyntaxError",
     "evalue": "invalid syntax (jvm.py, line 68)",
     "output_type": "error",
     "traceback": [
      "Traceback \u001b[0;36m(most recent call last)\u001b[0m:\n",
      "  File \u001b[1;32m~/opt/anaconda3/lib/python3.9/site-packages/IPython/core/interactiveshell.py:3398\u001b[0m in \u001b[1;35mrun_code\u001b[0m\n    exec(code_obj, self.user_global_ns, self.user_ns)\n",
      "  Input \u001b[1;32mIn [3]\u001b[0m in \u001b[1;35m<cell line: 1>\u001b[0m\n    from konlpy.tag import Twitter\n",
      "\u001b[0;36m  File \u001b[0;32m~/opt/anaconda3/lib/python3.9/site-packages/konlpy/__init__.py:11\u001b[0;36m in \u001b[0;35m<module>\u001b[0;36m\u001b[0m\n\u001b[0;31m    from konlpy.jvm import init_jvm\u001b[0m\n",
      "\u001b[0;36m  File \u001b[0;32m~/opt/anaconda3/lib/python3.9/site-packages/konlpy/jvm.py:68\u001b[0;36m\u001b[0m\n\u001b[0;31m    else:\u001b[0m\n\u001b[0m    ^\u001b[0m\n\u001b[0;31mSyntaxError\u001b[0m\u001b[0;31m:\u001b[0m invalid syntax\n"
     ]
    }
   ],
   "source": [
    "from konlpy.tag import Twitter\n",
    "nlpy = Twitter()\n",
    "nouns = nlpy.nouns(lines)\n",
    "print(nouns)"
   ]
  },
  {
   "cell_type": "code",
   "execution_count": null,
   "id": "eff3998b",
   "metadata": {},
   "outputs": [],
   "source": [
    "from collections import Counter\n",
    "count = Counter(nouns)\n",
    "\n",
    "tag_count = []\n",
    "tags = []\n",
    "\n",
    "for n, c in count.most_common(100):\n",
    "    dics = {'tag': n, 'count': c}\n",
    "    if len(dics['tag']) >= 2 and len(tags) <= 49:\n",
    "\n",
    "        tag_count.append(dics)\n",
    "        tags.append(dics['tag'])"
   ]
  }
 ],
 "metadata": {
  "kernelspec": {
   "display_name": "Python 3 (ipykernel)",
   "language": "python",
   "name": "python3"
  },
  "language_info": {
   "codemirror_mode": {
    "name": "ipython",
    "version": 3
   },
   "file_extension": ".py",
   "mimetype": "text/x-python",
   "name": "python",
   "nbconvert_exporter": "python",
   "pygments_lexer": "ipython3",
   "version": "3.9.13"
  }
 },
 "nbformat": 4,
 "nbformat_minor": 5
}
