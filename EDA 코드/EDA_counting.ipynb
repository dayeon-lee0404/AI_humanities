{
 "cells": [
  {
   "cell_type": "code",
   "execution_count": 3,
   "id": "41fe0892",
   "metadata": {},
   "outputs": [],
   "source": [
    "f = open('/Users/idayeon/Desktop/인공지능학부연구생/EDA/textData.txt','r',encoding = 'UTF-16')\n",
    "lines = f.readlines()"
   ]
  },
  {
   "cell_type": "code",
   "execution_count": 4,
   "id": "37b9f5bf",
   "metadata": {},
   "outputs": [
    {
     "data": {
      "text/plain": [
       "['text\\t\\n',\n",
       " '부랴부랴 왔는데 아무도 안왔네. 시간개념들이 없네\\t\\n',\n",
       " '맞아. 사람들이 진짜 개념이없다\\t\\n',\n",
       " '저렇게는 살지 말아야지\\t\\n',\n",
       " '그러게 게으르고 멍청한 사람들은 맞아야해\\t\\n']"
      ]
     },
     "execution_count": 4,
     "metadata": {},
     "output_type": "execute_result"
    }
   ],
   "source": [
    "lines[:5]"
   ]
  },
  {
   "cell_type": "code",
   "execution_count": 5,
   "id": "e981eb55",
   "metadata": {},
   "outputs": [
    {
     "data": {
      "text/plain": [
       "['부랴부랴 왔는데 아무도 안왔네. 시간개념들이 없네\\t\\n',\n",
       " '맞아. 사람들이 진짜 개념이없다\\t\\n',\n",
       " '저렇게는 살지 말아야지\\t\\n',\n",
       " '그러게 게으르고 멍청한 사람들은 맞아야해\\t\\n',\n",
       " '인방 보는 남자는 거르는게 맞다\\t\\n']"
      ]
     },
     "execution_count": 5,
     "metadata": {},
     "output_type": "execute_result"
    }
   ],
   "source": [
    "del lines[0]\n",
    "lines[:5]"
   ]
  },
  {
   "cell_type": "code",
   "execution_count": 11,
   "id": "e597ff5d",
   "metadata": {},
   "outputs": [
    {
     "data": {
      "text/plain": [
       "'저렇게는 살지 말아야지\\t\\n'"
      ]
     },
     "execution_count": 11,
     "metadata": {},
     "output_type": "execute_result"
    }
   ],
   "source": [
    "lines[2]"
   ]
  },
  {
   "cell_type": "code",
   "execution_count": 16,
   "id": "34a47812",
   "metadata": {},
   "outputs": [
    {
     "name": "stdout",
     "output_type": "stream",
     "text": [
      "['사람', '개념']\n"
     ]
    }
   ],
   "source": [
    "from konlpy.tag import Mecab\n",
    "mecab = Mecab()\n",
    "print(mecab.nouns(lines[1]))"
   ]
  },
  {
   "cell_type": "code",
   "execution_count": 19,
   "id": "791c66cc",
   "metadata": {},
   "outputs": [
    {
     "name": "stdout",
     "output_type": "stream",
     "text": [
      "['아무', '시간', '개념', '사람', '개념', '사람', '인방', '남자', '게', '사회']\n"
     ]
    }
   ],
   "source": [
    "nouns_list = []\n",
    "for i in lines :\n",
    "    noun_s = mecab.nouns(i)\n",
    "    for j in noun_s:\n",
    "        nouns_list.append(j)\n",
    "print(nouns_list[:10])"
   ]
  },
  {
   "cell_type": "code",
   "execution_count": 33,
   "id": "7e473e08",
   "metadata": {},
   "outputs": [
    {
     "data": {
      "text/plain": [
       "483568"
      ]
     },
     "execution_count": 33,
     "metadata": {},
     "output_type": "execute_result"
    }
   ],
   "source": [
    "len(nouns_list)"
   ]
  },
  {
   "cell_type": "code",
   "execution_count": 40,
   "id": "6f3a245d",
   "metadata": {},
   "outputs": [
    {
     "data": {
      "text/plain": [
       "18532"
      ]
     },
     "execution_count": 40,
     "metadata": {},
     "output_type": "execute_result"
    }
   ],
   "source": [
    "len(count)"
   ]
  },
  {
   "cell_type": "code",
   "execution_count": 43,
   "id": "eff3998b",
   "metadata": {},
   "outputs": [],
   "source": [
    "from collections import Counter\n",
    "count = Counter(nouns_list)\n",
    "\n",
    "tag_count = []\n",
    "tags = []\n",
    "\n",
    "for n, c in count.most_common(18000):\n",
    "    dics = {'tag': n, 'count': c}\n",
    "    if len(dics['tag']) >= 2 :\n",
    "\n",
    "        tag_count.append(dics)\n",
    "        tags.append(dics['tag'])"
   ]
  },
  {
   "cell_type": "code",
   "execution_count": null,
   "id": "340e6a2b",
   "metadata": {},
   "outputs": [],
   "source": [
    "lst = []\n",
    "for n, c in count.most_common(18000):\n",
    "    if len(n) >= 2 :\n",
    "        set = [n,c]\n",
    "        lst.append(set)\n",
    "print(lst)"
   ]
  },
  {
   "cell_type": "markdown",
   "id": "b51312d1",
   "metadata": {},
   "source": []
  },
  {
   "cell_type": "code",
   "execution_count": 50,
   "id": "caee4403",
   "metadata": {},
   "outputs": [],
   "source": [
    "import csv\n",
    "\n",
    "with open('word_counting.csv', 'w',newline='') as f :\n",
    "    write = csv.writer(f)\n",
    "    write.writerows(lst)"
   ]
  },
  {
   "cell_type": "code",
   "execution_count": null,
   "id": "74dda54f",
   "metadata": {},
   "outputs": [],
   "source": []
  }
 ],
 "metadata": {
  "kernelspec": {
   "display_name": "base",
   "language": "python",
   "name": "python3"
  },
  "language_info": {
   "codemirror_mode": {
    "name": "ipython",
    "version": 3
   },
   "file_extension": ".py",
   "mimetype": "text/x-python",
   "name": "python",
   "nbconvert_exporter": "python",
   "pygments_lexer": "ipython3",
   "version": "3.9.13 (main, Aug 25 2022, 18:24:45) \n[Clang 12.0.0 ]"
  },
  "vscode": {
   "interpreter": {
    "hash": "b733b73d7d6d76c6a583195fffde7d15920d8bfb4832083bd204139a0e6d80a1"
   }
  }
 },
 "nbformat": 4,
 "nbformat_minor": 5
}
